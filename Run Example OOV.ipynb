{
 "cells": [
  {
   "cell_type": "code",
   "execution_count": 1,
   "metadata": {},
   "outputs": [],
   "source": [
    "import config\n",
    "import models\n",
    "import tensorflow as tf\n",
    "import numpy as np\n",
    "import os\n"
   ]
  },
  {
   "cell_type": "code",
   "execution_count": 2,
   "metadata": {},
   "outputs": [],
   "source": [
    "train_data_path = \"./benchmarks/FB15K/\"\n",
    "test_data_path = \"./benchmarks/FB15K_OOV/\"\n",
    "\n",
    "train_file_path = \"./res/model.vec.tf\"\n",
    "train_embedding_path = \"./res/embedding.vec.json\"\n",
    "\n",
    "test_file_path = \"./res/model_new.vec.tf\"\n",
    "test_embedding_path = \"./res/embedding_new.vec.json\""
   ]
  },
  {
   "cell_type": "markdown",
   "metadata": {},
   "source": [
    "# Run TransE To Create initial embeddings"
   ]
  },
  {
   "cell_type": "code",
   "execution_count": 3,
   "metadata": {},
   "outputs": [],
   "source": [
    "\"\"\"\n",
    "Method:\n",
    "\n",
    "Run the normal transe example (example_train_transe.py)\n",
    "Write the embeddings as a file that can be read\n",
    "use embeddings to initialize embedding layer in TransE_freeze.py\n",
    "\n",
    "Append random embeddings for new entities and relations\n",
    "set config freeze_train_embeddings = true\n",
    "figure out how to update only the embeddings for a certain set of indices\n",
    "figure out how to make sure that we only see examples using new items to speed convergence\n",
    "compare new+old embeddings\n",
    "\"\"\"\n",
    "os.environ['CUDA_VISIBLE_DEVICES']='7'\n",
    "con = config.Config()\n",
    "#True: Input test files from the same folder.\n",
    "con.set_in_path(train_data_path)\n",
    "con.set_test_link_prediction(True)\n",
    "con.set_test_triple_classification(True)\n",
    "con.set_work_threads(8)\n",
    "con.set_train_times(10)\n",
    "con.set_nbatches(20)\n",
    "con.set_alpha(0.001)\n",
    "con.set_margin(1.0)\n",
    "con.set_bern(0)\n",
    "con.set_dimension(100)\n",
    "con.set_ent_neg_rate(1)\n",
    "con.set_rel_neg_rate(0)\n",
    "con.set_opt_method(\"SGD\")"
   ]
  },
  {
   "cell_type": "code",
   "execution_count": 4,
   "metadata": {},
   "outputs": [],
   "source": [
    "#Models will be exported via tf.Saver() automatically.\n",
    "con.set_export_files(train_file_path, 0)\n",
    "#Model parameters will be exported to json files automatically.\n",
    "con.set_out_files(train_embedding_path)\n",
    "#Initialize experimental settings.\n",
    "con.init()"
   ]
  },
  {
   "cell_type": "code",
   "execution_count": 5,
   "metadata": {},
   "outputs": [
    {
     "name": "stdout",
     "output_type": "stream",
     "text": [
      "\n",
      "WARNING: The TensorFlow contrib module will not be included in TensorFlow 2.0.\n",
      "For more information, please see:\n",
      "  * https://github.com/tensorflow/community/blob/master/rfcs/20180907-contrib-sunset.md\n",
      "  * https://github.com/tensorflow/addons\n",
      "If you depend on functionality not listed there, please file an issue.\n",
      "\n",
      "WARNING:tensorflow:From /anaconda3/envs/PBG/lib/python3.6/site-packages/tensorflow/python/framework/op_def_library.py:263: colocate_with (from tensorflow.python.framework.ops) is deprecated and will be removed in a future version.\n",
      "Instructions for updating:\n",
      "Colocations handled automatically by placer.\n",
      "WARNING:tensorflow:From /Users/joelcarl/WorkDocs/Scratch/PBG/OpenKE/models/TransE.py:49: calling reduce_sum_v1 (from tensorflow.python.ops.math_ops) with keep_dims is deprecated and will be removed in a future version.\n",
      "Instructions for updating:\n",
      "keep_dims is deprecated, use keepdims instead\n",
      "WARNING:tensorflow:From /anaconda3/envs/PBG/lib/python3.6/site-packages/tensorflow/python/ops/math_ops.py:3066: to_int32 (from tensorflow.python.ops.math_ops) is deprecated and will be removed in a future version.\n",
      "Instructions for updating:\n",
      "Use tf.cast instead.\n",
      "WARNING:tensorflow:From /anaconda3/envs/PBG/lib/python3.6/site-packages/tensorflow/python/util/tf_should_use.py:193: initialize_all_variables (from tensorflow.python.ops.variables) is deprecated and will be removed after 2017-03-02.\n",
      "Instructions for updating:\n",
      "Use `tf.global_variables_initializer` instead.\n"
     ]
    }
   ],
   "source": [
    "\n",
    "#Set the knowledge embedding model\n",
    "con.set_model(models.TransE)\n"
   ]
  },
  {
   "cell_type": "code",
   "execution_count": 6,
   "metadata": {},
   "outputs": [
    {
     "name": "stdout",
     "output_type": "stream",
     "text": [
      "Epoch: 0, loss: 301717.369140625, time: 9.5367431640625e-07\n",
      "Epoch: 1, loss: 127094.7919921875, time: 1.1920928955078125e-06\n",
      "Epoch: 2, loss: 87462.60961914062, time: 7.152557373046875e-07\n",
      "Epoch: 3, loss: 70860.0908203125, time: 0.0\n",
      "Epoch: 4, loss: 61540.795166015625, time: 9.5367431640625e-07\n",
      "Epoch: 5, loss: 55482.537841796875, time: 9.5367431640625e-07\n",
      "Epoch: 6, loss: 50941.429443359375, time: 9.5367431640625e-07\n",
      "Epoch: 7, loss: 47697.72802734375, time: 9.5367431640625e-07\n",
      "Epoch: 8, loss: 45372.07763671875, time: 9.5367431640625e-07\n",
      "Epoch: 9, loss: 44106.403564453125, time: 1.1920928955078125e-06\n"
     ]
    }
   ],
   "source": [
    "#Train the model.\n",
    "con.run()"
   ]
  },
  {
   "cell_type": "markdown",
   "metadata": {},
   "source": [
    "# Run TransE Freeze using Embeddings produced in above step"
   ]
  },
  {
   "cell_type": "code",
   "execution_count": 7,
   "metadata": {},
   "outputs": [],
   "source": [
    "os.environ['CUDA_VISIBLE_DEVICES']='7'\n",
    "#Input training files from benchmarks/FB15K/ folder.\n",
    "con = config.Config()\n",
    "#True: Input test files from the same folder.\n",
    "con.set_in_path(test_data_path)\n",
    "con.set_test_link_prediction(True)\n",
    "con.set_test_triple_classification(True)\n",
    "con.set_work_threads(8)\n",
    "con.set_train_times(10)\n",
    "con.set_nbatches(20)\n",
    "con.set_alpha(0.001)\n",
    "con.set_margin(1.0)\n",
    "con.set_bern(0)\n",
    "con.set_dimension(100)\n",
    "con.set_ent_neg_rate(1)\n",
    "con.set_rel_neg_rate(0)\n",
    "con.set_opt_method(\"SGD\")\n",
    "con.set_freeze_train_embeddings(True)\n",
    "con.set_ent_embedding_initializer(train_embedding_path)\n",
    "con.set_rel_embedding_initializer(train_embedding_path)"
   ]
  },
  {
   "cell_type": "code",
   "execution_count": 8,
   "metadata": {},
   "outputs": [],
   "source": [
    "#Models will be exported via tf.Saver() automatically.\n",
    "con.set_export_files(test_file_path, 0)\n",
    "#Model parameters will be exported to json files automatically.\n",
    "con.set_out_files(test_embedding_path)\n",
    "#Initialize experimental settings.\n",
    "con.init()\n",
    "#Set the knowledge embedding model\n",
    "con.set_model(models.TransE_freeze)"
   ]
  },
  {
   "cell_type": "code",
   "execution_count": 9,
   "metadata": {},
   "outputs": [
    {
     "name": "stdout",
     "output_type": "stream",
     "text": [
      "Epoch: 0, loss: 42157.26647949219, time: 0.0\n",
      "Epoch: 1, loss: 40747.789794921875, time: 9.5367431640625e-07\n",
      "Epoch: 2, loss: 38899.87634277344, time: 1.1920928955078125e-06\n",
      "Epoch: 3, loss: 37705.41516113281, time: 1.1920928955078125e-06\n",
      "Epoch: 4, loss: 36526.37060546875, time: 1.1920928955078125e-06\n",
      "Epoch: 5, loss: 35860.90673828125, time: 9.5367431640625e-07\n",
      "Epoch: 6, loss: 34948.32189941406, time: 0.0\n",
      "Epoch: 7, loss: 34169.264404296875, time: 1.1920928955078125e-06\n",
      "Epoch: 8, loss: 33043.1103515625, time: 9.5367431640625e-07\n",
      "Epoch: 9, loss: 31239.524658203125, time: 9.5367431640625e-07\n"
     ]
    }
   ],
   "source": [
    "#Train the model.\n",
    "con.run()"
   ]
  },
  {
   "cell_type": "code",
   "execution_count": null,
   "metadata": {},
   "outputs": [],
   "source": []
  },
  {
   "cell_type": "code",
   "execution_count": null,
   "metadata": {},
   "outputs": [],
   "source": []
  },
  {
   "cell_type": "code",
   "execution_count": null,
   "metadata": {},
   "outputs": [],
   "source": []
  },
  {
   "cell_type": "code",
   "execution_count": null,
   "metadata": {},
   "outputs": [],
   "source": []
  },
  {
   "cell_type": "code",
   "execution_count": null,
   "metadata": {},
   "outputs": [],
   "source": []
  },
  {
   "cell_type": "markdown",
   "metadata": {},
   "source": [
    "# Compare new and old embeddings"
   ]
  },
  {
   "cell_type": "code",
   "execution_count": 10,
   "metadata": {},
   "outputs": [],
   "source": [
    "import json\n",
    "with open(\"./res/embedding.vec.json\", \"r\") as f: \n",
    "    old_embeddings = json.loads(f.read())\n",
    "    old_ent_embeddings = old_embeddings[\"ent_embeddings\"]\n",
    "    old_rel_embeddings = old_embeddings[\"rel_embeddings\"]\n"
   ]
  },
  {
   "cell_type": "code",
   "execution_count": 11,
   "metadata": {},
   "outputs": [],
   "source": [
    "with open(\"./res/embedding_new.vec.json\", \"r\") as f: \n",
    "    new_embeddings = json.loads(f.read())\n",
    "    new_ent_embeddings = new_embeddings[\"ent_embeddings\"]\n",
    "    new_rel_embeddings = new_embeddings[\"rel_embeddings\"]"
   ]
  },
  {
   "cell_type": "code",
   "execution_count": 12,
   "metadata": {},
   "outputs": [
    {
     "data": {
      "text/plain": [
       "False"
      ]
     },
     "execution_count": 12,
     "metadata": {},
     "output_type": "execute_result"
    }
   ],
   "source": [
    "old_ent_embeddings[0] == new_ent_embeddings[0]"
   ]
  },
  {
   "cell_type": "code",
   "execution_count": 13,
   "metadata": {},
   "outputs": [
    {
     "data": {
      "text/plain": [
       "False"
      ]
     },
     "execution_count": 13,
     "metadata": {},
     "output_type": "execute_result"
    }
   ],
   "source": [
    "old_rel_embeddings[0] == new_rel_embeddings[0]"
   ]
  },
  {
   "cell_type": "code",
   "execution_count": 14,
   "metadata": {},
   "outputs": [
    {
     "data": {
      "text/plain": [
       "1346"
      ]
     },
     "execution_count": 14,
     "metadata": {},
     "output_type": "execute_result"
    }
   ],
   "source": [
    "len(new_rel_embeddings)"
   ]
  },
  {
   "cell_type": "code",
   "execution_count": 15,
   "metadata": {},
   "outputs": [
    {
     "data": {
      "text/plain": [
       "1345"
      ]
     },
     "execution_count": 15,
     "metadata": {},
     "output_type": "execute_result"
    }
   ],
   "source": [
    "len(old_rel_embeddings)"
   ]
  },
  {
   "cell_type": "code",
   "execution_count": 16,
   "metadata": {},
   "outputs": [
    {
     "data": {
      "text/plain": [
       "[-0.018950240686535835,\n",
       " -0.018950240686535835,\n",
       " -0.018950240686535835,\n",
       " -0.022950241342186928,\n",
       " -0.018950240686535835,\n",
       " -0.02095024101436138,\n",
       " -0.018950240686535835,\n",
       " -0.02095024101436138,\n",
       " -0.024950241670012474,\n",
       " -0.018950240686535835,\n",
       " -0.022950241342186928,\n",
       " -0.02095024101436138,\n",
       " -0.018950240686535835,\n",
       " -0.018950240686535835,\n",
       " -0.02095024101436138,\n",
       " -0.018950240686535835,\n",
       " -0.02095024101436138,\n",
       " -0.02095024101436138,\n",
       " -0.018950240686535835,\n",
       " -0.018950240686535835,\n",
       " -0.022950241342186928,\n",
       " -0.018950240686535835,\n",
       " -0.02095024101436138,\n",
       " -0.018950240686535835,\n",
       " -0.018950240686535835,\n",
       " -0.018950240686535835,\n",
       " -0.02095024101436138,\n",
       " -0.018950240686535835,\n",
       " -0.01695024035871029,\n",
       " -0.022950241342186928,\n",
       " -0.02095024101436138,\n",
       " -0.02095024101436138,\n",
       " -0.02095024101436138,\n",
       " -0.02095024101436138,\n",
       " -0.022950241342186928,\n",
       " -0.018950240686535835,\n",
       " -0.02095024101436138,\n",
       " -0.022950241342186928,\n",
       " -0.02095024101436138,\n",
       " -0.018950240686535835,\n",
       " -0.018950240686535835,\n",
       " -0.022950241342186928,\n",
       " -0.02095024101436138,\n",
       " -0.02095024101436138,\n",
       " -0.02095024101436138,\n",
       " -0.022950241342186928,\n",
       " -0.022950241342186928,\n",
       " -0.018950240686535835,\n",
       " -0.018950240686535835,\n",
       " -0.018950240686535835,\n",
       " -0.018950240686535835,\n",
       " -0.02095024101436138,\n",
       " -0.02095024101436138,\n",
       " -0.018950240686535835,\n",
       " -0.022950241342186928,\n",
       " -0.02095024101436138,\n",
       " -0.02095024101436138,\n",
       " -0.02095024101436138,\n",
       " -0.02095024101436138,\n",
       " -0.02095024101436138,\n",
       " -0.018950240686535835,\n",
       " -0.02095024101436138,\n",
       " -0.02095024101436138,\n",
       " -0.018950240686535835,\n",
       " -0.018950240686535835,\n",
       " -0.022950241342186928,\n",
       " -0.01695024035871029,\n",
       " -0.018950240686535835,\n",
       " -0.02095024101436138,\n",
       " -0.018950240686535835,\n",
       " -0.018950240686535835,\n",
       " -0.018950240686535835,\n",
       " -0.022950241342186928,\n",
       " -0.02095024101436138,\n",
       " -0.018950240686535835,\n",
       " -0.018950240686535835,\n",
       " -0.018950240686535835,\n",
       " -0.02095024101436138,\n",
       " -0.02095024101436138,\n",
       " -0.022950241342186928,\n",
       " -0.018950240686535835,\n",
       " -0.022950241342186928,\n",
       " -0.018950240686535835,\n",
       " -0.02095024101436138,\n",
       " -0.018950240686535835,\n",
       " -0.018950240686535835,\n",
       " -0.018950240686535835,\n",
       " -0.018950240686535835,\n",
       " -0.018950240686535835,\n",
       " -0.02095024101436138,\n",
       " -0.018950240686535835,\n",
       " -0.018950240686535835,\n",
       " -0.018950240686535835,\n",
       " -0.018950240686535835,\n",
       " -0.02095024101436138,\n",
       " -0.02095024101436138,\n",
       " -0.02095024101436138,\n",
       " -0.022950241342186928,\n",
       " -0.022950241342186928,\n",
       " -0.018950240686535835]"
      ]
     },
     "execution_count": 16,
     "metadata": {},
     "output_type": "execute_result"
    }
   ],
   "source": [
    "new_rel_embeddings[1345]"
   ]
  },
  {
   "cell_type": "code",
   "execution_count": null,
   "metadata": {},
   "outputs": [],
   "source": []
  }
 ],
 "metadata": {
  "kernelspec": {
   "display_name": "Python [conda env:PBG] *",
   "language": "python",
   "name": "conda-env-PBG-py"
  },
  "language_info": {
   "codemirror_mode": {
    "name": "ipython",
    "version": 3
   },
   "file_extension": ".py",
   "mimetype": "text/x-python",
   "name": "python",
   "nbconvert_exporter": "python",
   "pygments_lexer": "ipython3",
   "version": "3.6.7"
  }
 },
 "nbformat": 4,
 "nbformat_minor": 2
}
