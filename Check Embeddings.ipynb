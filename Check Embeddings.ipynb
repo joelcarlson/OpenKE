{
 "cells": [
  {
   "cell_type": "code",
   "execution_count": 3,
   "metadata": {},
   "outputs": [],
   "source": [
    "import config\n",
    "import models"
   ]
  },
  {
   "cell_type": "code",
   "execution_count": 4,
   "metadata": {},
   "outputs": [
    {
     "name": "stdout",
     "output_type": "stream",
     "text": [
      "\n",
      "WARNING: The TensorFlow contrib module will not be included in TensorFlow 2.0.\n",
      "For more information, please see:\n",
      "  * https://github.com/tensorflow/community/blob/master/rfcs/20180907-contrib-sunset.md\n",
      "  * https://github.com/tensorflow/addons\n",
      "If you depend on functionality not listed there, please file an issue.\n",
      "\n",
      "WARNING:tensorflow:From /anaconda3/envs/PBG/lib/python3.6/site-packages/tensorflow/python/framework/op_def_library.py:263: colocate_with (from tensorflow.python.framework.ops) is deprecated and will be removed in a future version.\n",
      "Instructions for updating:\n",
      "Colocations handled automatically by placer.\n",
      "WARNING:tensorflow:From /Users/joelcarl/WorkDocs/Scratch/PBG/OpenKE/models/TransE.py:45: calling reduce_sum_v1 (from tensorflow.python.ops.math_ops) with keep_dims is deprecated and will be removed in a future version.\n",
      "Instructions for updating:\n",
      "keep_dims is deprecated, use keepdims instead\n",
      "WARNING:tensorflow:From /anaconda3/envs/PBG/lib/python3.6/site-packages/tensorflow/python/ops/math_ops.py:3066: to_int32 (from tensorflow.python.ops.math_ops) is deprecated and will be removed in a future version.\n",
      "Instructions for updating:\n",
      "Use tf.cast instead.\n",
      "WARNING:tensorflow:From /anaconda3/envs/PBG/lib/python3.6/site-packages/tensorflow/python/util/tf_should_use.py:193: initialize_all_variables (from tensorflow.python.ops.variables) is deprecated and will be removed after 2017-03-02.\n",
      "Instructions for updating:\n",
      "Use `tf.global_variables_initializer` instead.\n"
     ]
    }
   ],
   "source": [
    "con = config.Config()\n",
    "con.set_in_path(\"./benchmarks/FB15K/\")\n",
    "con.set_test_link_prediction(True)\n",
    "con.set_test_triple_classification(True)\n",
    "con.set_work_threads(4)\n",
    "con.set_dimension(50)\n",
    "con.set_import_files(\"./res/model.vec.tf\")\n",
    "con.init()\n",
    "con.set_model(models.TransE)\n",
    "# Get the embeddings (numpy.array)\n",
    "embeddings = con.get_parameters(\"numpy\")\n",
    "# Get the embeddings (python list)\n",
    "embeddings = con.get_parameters()\n"
   ]
  },
  {
   "cell_type": "code",
   "execution_count": 6,
   "metadata": {},
   "outputs": [
    {
     "data": {
      "text/plain": [
       "2"
      ]
     },
     "execution_count": 6,
     "metadata": {},
     "output_type": "execute_result"
    }
   ],
   "source": [
    "len(embeddings)"
   ]
  },
  {
   "cell_type": "code",
   "execution_count": 12,
   "metadata": {},
   "outputs": [
    {
     "data": {
      "text/plain": [
       "array([-0.05831664,  0.03416492, -0.03707167, -0.04222227, -0.04851564,\n",
       "       -0.00617197,  0.0326767 ,  0.02141335,  0.06632868,  0.01486283,\n",
       "       -0.05081371, -0.00801338,  0.00961015, -0.00635826,  0.02320103,\n",
       "       -0.00383584, -0.03324357,  0.03981298, -0.00585366,  0.0656999 ,\n",
       "        0.05441039, -0.02202466, -0.04938503,  0.02233079, -0.00548098,\n",
       "        0.00089946,  0.0461435 ,  0.03943991, -0.01490908,  0.04365031,\n",
       "        0.01880503,  0.0076559 , -0.0338383 ,  0.03335078,  0.03670783,\n",
       "       -0.00122314,  0.00351768, -0.03713455,  0.03756406,  0.05316277,\n",
       "       -0.00298079, -0.05328634,  0.01241987,  0.03438228, -0.03033   ,\n",
       "        0.02341421, -0.03832874, -0.0558261 ,  0.02627839, -0.0645455 ],\n",
       "      dtype=float32)"
      ]
     },
     "execution_count": 12,
     "metadata": {},
     "output_type": "execute_result"
    }
   ],
   "source": [
    "embeddings[\"rel_embeddings\"][0]"
   ]
  },
  {
   "cell_type": "code",
   "execution_count": 13,
   "metadata": {},
   "outputs": [
    {
     "data": {
      "text/plain": [
       "array([ 0.00099289,  0.00781543, -0.02027656,  0.01319583, -0.01371205,\n",
       "        0.00651066, -0.0001785 , -0.00731423, -0.01013919, -0.00637398,\n",
       "       -0.02121808,  0.01399266,  0.01194399, -0.01470495, -0.00017501,\n",
       "       -0.00826207, -0.00403378, -0.00443816, -0.01184182, -0.00438605,\n",
       "        0.00161424,  0.00625397,  0.00948665, -0.014768  , -0.00623437,\n",
       "       -0.01506668,  0.0043257 ,  0.00359166,  0.00455772,  0.00948074,\n",
       "        0.002922  , -0.00970301,  0.01856879, -0.00926282, -0.02404831,\n",
       "       -0.00296743, -0.01761327,  0.02535116,  0.00030073, -0.00865604,\n",
       "        0.0238249 ,  0.00315134,  0.00362847, -0.00964079, -0.01645633,\n",
       "       -0.00495506,  0.0112811 , -0.01179764, -0.00594671,  0.00030203],\n",
       "      dtype=float32)"
      ]
     },
     "execution_count": 13,
     "metadata": {},
     "output_type": "execute_result"
    }
   ],
   "source": [
    "embeddings[\"ent_embeddings\"][0]"
   ]
  },
  {
   "cell_type": "code",
   "execution_count": null,
   "metadata": {},
   "outputs": [],
   "source": []
  }
 ],
 "metadata": {
  "kernelspec": {
   "display_name": "Python [conda env:PBG] *",
   "language": "python",
   "name": "conda-env-PBG-py"
  },
  "language_info": {
   "codemirror_mode": {
    "name": "ipython",
    "version": 3
   },
   "file_extension": ".py",
   "mimetype": "text/x-python",
   "name": "python",
   "nbconvert_exporter": "python",
   "pygments_lexer": "ipython3",
   "version": "3.6.7"
  }
 },
 "nbformat": 4,
 "nbformat_minor": 2
}
