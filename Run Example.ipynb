{
 "cells": [
  {
   "cell_type": "code",
   "execution_count": 1,
   "metadata": {},
   "outputs": [],
   "source": [
    "import config\n",
    "import models\n",
    "import tensorflow as tf\n",
    "import numpy as np\n",
    "import os\n"
   ]
  },
  {
   "cell_type": "markdown",
   "metadata": {},
   "source": [
    "# Run TransE To Create initial embeddings"
   ]
  },
  {
   "cell_type": "code",
   "execution_count": 2,
   "metadata": {},
   "outputs": [],
   "source": [
    "\"\"\"\n",
    "Method:\n",
    "\n",
    "Run the normal transe example (example_train_transe.py)\n",
    "Write the embeddings as a file that can be read\n",
    "use embeddings to initialize embedding layer in TransE_freeze.py\n",
    "\n",
    "Append random embeddings for new entities and relations\n",
    "set config freeze_train_embeddings = true\n",
    "figure out how to update only the embeddings for a certain set of indices\n",
    "figure out how to make sure that we only see examples using new items to speed convergence\n",
    "compare new+old embeddings\n",
    "\"\"\"\n",
    "os.environ['CUDA_VISIBLE_DEVICES']='7'\n",
    "#Input training files from benchmarks/FB15K/ folder.\n",
    "con = config.Config()\n",
    "#True: Input test files from the same folder.\n",
    "con.set_in_path(\"./benchmarks/FB15K/\")\n",
    "con.set_test_link_prediction(True)\n",
    "con.set_test_triple_classification(True)\n",
    "con.set_work_threads(8)\n",
    "con.set_train_times(10)\n",
    "con.set_nbatches(20)\n",
    "con.set_alpha(0.001)\n",
    "con.set_margin(1.0)\n",
    "con.set_bern(0)\n",
    "con.set_dimension(100)\n",
    "con.set_ent_neg_rate(1)\n",
    "con.set_rel_neg_rate(0)\n",
    "con.set_opt_method(\"SGD\")"
   ]
  },
  {
   "cell_type": "code",
   "execution_count": 3,
   "metadata": {},
   "outputs": [],
   "source": [
    "#Models will be exported via tf.Saver() automatically.\n",
    "con.set_export_files(\"./res/model.vec.tf\", 0)\n",
    "#Model parameters will be exported to json files automatically.\n",
    "con.set_out_files(\"./res/embedding.vec.json\")\n",
    "#Initialize experimental settings.\n",
    "con.init()"
   ]
  },
  {
   "cell_type": "code",
   "execution_count": 4,
   "metadata": {},
   "outputs": [
    {
     "name": "stdout",
     "output_type": "stream",
     "text": [
      "\n",
      "WARNING: The TensorFlow contrib module will not be included in TensorFlow 2.0.\n",
      "For more information, please see:\n",
      "  * https://github.com/tensorflow/community/blob/master/rfcs/20180907-contrib-sunset.md\n",
      "  * https://github.com/tensorflow/addons\n",
      "If you depend on functionality not listed there, please file an issue.\n",
      "\n",
      "WARNING:tensorflow:From /anaconda3/envs/PBG/lib/python3.6/site-packages/tensorflow/python/framework/op_def_library.py:263: colocate_with (from tensorflow.python.framework.ops) is deprecated and will be removed in a future version.\n",
      "Instructions for updating:\n",
      "Colocations handled automatically by placer.\n",
      "WARNING:tensorflow:From /Users/joelcarl/WorkDocs/Scratch/PBG/OpenKE/models/TransE.py:45: calling reduce_sum_v1 (from tensorflow.python.ops.math_ops) with keep_dims is deprecated and will be removed in a future version.\n",
      "Instructions for updating:\n",
      "keep_dims is deprecated, use keepdims instead\n",
      "WARNING:tensorflow:From /anaconda3/envs/PBG/lib/python3.6/site-packages/tensorflow/python/ops/math_ops.py:3066: to_int32 (from tensorflow.python.ops.math_ops) is deprecated and will be removed in a future version.\n",
      "Instructions for updating:\n",
      "Use tf.cast instead.\n",
      "WARNING:tensorflow:From /anaconda3/envs/PBG/lib/python3.6/site-packages/tensorflow/python/util/tf_should_use.py:193: initialize_all_variables (from tensorflow.python.ops.variables) is deprecated and will be removed after 2017-03-02.\n",
      "Instructions for updating:\n",
      "Use `tf.global_variables_initializer` instead.\n"
     ]
    }
   ],
   "source": [
    "\n",
    "#Set the knowledge embedding model\n",
    "con.set_model(models.TransE)\n"
   ]
  },
  {
   "cell_type": "code",
   "execution_count": 5,
   "metadata": {},
   "outputs": [
    {
     "name": "stdout",
     "output_type": "stream",
     "text": [
      "Epoch: 0, loss: 305279.8212890625, time: 0.0\n",
      "Epoch: 1, loss: 129026.60986328125, time: 9.5367431640625e-07\n",
      "Epoch: 2, loss: 88025.84887695312, time: 0.0\n",
      "Epoch: 3, loss: 70747.74853515625, time: 0.0\n",
      "Epoch: 4, loss: 62002.155517578125, time: 0.0\n",
      "Epoch: 5, loss: 54666.03271484375, time: 0.0\n",
      "Epoch: 6, loss: 51151.710205078125, time: 9.5367431640625e-07\n",
      "Epoch: 7, loss: 48109.78564453125, time: 0.0\n",
      "Epoch: 8, loss: 45266.587890625, time: 9.5367431640625e-07\n",
      "Epoch: 9, loss: 43888.639404296875, time: 1.1920928955078125e-06\n"
     ]
    }
   ],
   "source": [
    "#Train the model.\n",
    "con.run()"
   ]
  },
  {
   "cell_type": "code",
   "execution_count": 6,
   "metadata": {},
   "outputs": [
    {
     "name": "stdout",
     "output_type": "stream",
     "text": [
      "[ 155 2420 1719 3012 4719]\n",
      "[6189 1821 3460 2917 9528]\n",
      "[375 518  98 859 974]\n",
      "triple (151,152,9) is correct\n",
      "triple (151,152,8) is wrong\n"
     ]
    }
   ],
   "source": [
    "# This method predicts the top k head entities given tail entity and relation.\n",
    "# t (int): tail entity id\n",
    "# r (int): relation id\n",
    "# k (int): top k head entities\n",
    "con.predict_head_entity(152, 9, 5)\n",
    "con.predict_tail_entity(151, 9, 5)\n",
    "con.predict_relation(151, 152, 5)\n",
    "\n",
    "# head, tail, relation\n",
    "con.predict_triple(151, 152, 9)\n",
    "con.predict_triple(151, 152, 8)"
   ]
  },
  {
   "cell_type": "markdown",
   "metadata": {},
   "source": [
    "# Run TransE Freeze using Embeddings produced in above step"
   ]
  },
  {
   "cell_type": "code",
   "execution_count": 7,
   "metadata": {},
   "outputs": [],
   "source": [
    "os.environ['CUDA_VISIBLE_DEVICES']='7'\n",
    "#Input training files from benchmarks/FB15K/ folder.\n",
    "con = config.Config()\n",
    "#True: Input test files from the same folder.\n",
    "con.set_in_path(\"./benchmarks/FB15K/\")\n",
    "con.set_test_link_prediction(True)\n",
    "con.set_test_triple_classification(True)\n",
    "con.set_work_threads(8)\n",
    "con.set_train_times(10)\n",
    "con.set_nbatches(20)\n",
    "con.set_alpha(0.001)\n",
    "con.set_margin(1.0)\n",
    "con.set_bern(0)\n",
    "con.set_dimension(100)\n",
    "con.set_ent_neg_rate(1)\n",
    "con.set_rel_neg_rate(0)\n",
    "con.set_opt_method(\"SGD\")\n",
    "con.set_freeze_train_embeddings(True)\n",
    "con.set_ent_embedding_initializer(\"./res/embedding.vec.json\")\n",
    "con.set_rel_embedding_initializer(\"./res/embedding.vec.json\")"
   ]
  },
  {
   "cell_type": "code",
   "execution_count": 8,
   "metadata": {},
   "outputs": [
    {
     "name": "stdout",
     "output_type": "stream",
     "text": [
      "<tensorflow.python.ops.init_ops.Constant object at 0x125b995f8>\n",
      "LOOK RIGHT HERE!!!!!\n"
     ]
    }
   ],
   "source": [
    "#Models will be exported via tf.Saver() automatically.\n",
    "con.set_export_files(\"./res/model_new.vec.tf\", 0)\n",
    "#Model parameters will be exported to json files automatically.\n",
    "con.set_out_files(\"./res/embedding_new.vec.json\")\n",
    "#Initialize experimental settings.\n",
    "con.init()\n",
    "#Set the knowledge embedding model\n",
    "con.set_model(models.TransE_freeze)"
   ]
  },
  {
   "cell_type": "code",
   "execution_count": 9,
   "metadata": {},
   "outputs": [
    {
     "name": "stdout",
     "output_type": "stream",
     "text": [
      "Epoch: 0, loss: 41839.50158691406, time: 1.1920928955078125e-06\n",
      "Epoch: 1, loss: 43186.323974609375, time: 0.0\n",
      "Epoch: 2, loss: 42300.547119140625, time: 1.9073486328125e-06\n",
      "Epoch: 3, loss: 41839.842529296875, time: 9.5367431640625e-07\n",
      "Epoch: 4, loss: 42122.31640625, time: 9.5367431640625e-07\n",
      "Epoch: 5, loss: 42531.62451171875, time: 1.1920928955078125e-06\n",
      "Epoch: 6, loss: 43029.798828125, time: 9.5367431640625e-07\n",
      "Epoch: 7, loss: 43140.5546875, time: 9.5367431640625e-07\n",
      "Epoch: 8, loss: 42066.09240722656, time: 9.5367431640625e-07\n",
      "Epoch: 9, loss: 41433.55712890625, time: 1.1920928955078125e-06\n"
     ]
    }
   ],
   "source": [
    "#Train the model.\n",
    "con.run()"
   ]
  },
  {
   "cell_type": "code",
   "execution_count": null,
   "metadata": {},
   "outputs": [],
   "source": []
  },
  {
   "cell_type": "code",
   "execution_count": null,
   "metadata": {},
   "outputs": [],
   "source": []
  },
  {
   "cell_type": "code",
   "execution_count": null,
   "metadata": {},
   "outputs": [],
   "source": []
  },
  {
   "cell_type": "code",
   "execution_count": null,
   "metadata": {},
   "outputs": [],
   "source": []
  },
  {
   "cell_type": "code",
   "execution_count": null,
   "metadata": {},
   "outputs": [],
   "source": []
  },
  {
   "cell_type": "markdown",
   "metadata": {},
   "source": [
    "# Compare new and old embeddings"
   ]
  },
  {
   "cell_type": "code",
   "execution_count": 10,
   "metadata": {},
   "outputs": [],
   "source": [
    "import json\n",
    "with open(\"./res/embedding.vec.json\", \"r\") as f: \n",
    "    old_embeddings = json.loads(f.read())\n",
    "    old_ent_embeddings = old_embeddings[\"ent_embeddings\"]\n",
    "    old_rel_embeddings = old_embeddings[\"rel_embeddings\"]\n"
   ]
  },
  {
   "cell_type": "code",
   "execution_count": 11,
   "metadata": {},
   "outputs": [],
   "source": [
    "with open(\"./res/embedding_new.vec.json\", \"r\") as f: \n",
    "    new_embeddings = json.loads(f.read())\n",
    "    new_ent_embeddings = new_embeddings[\"ent_embeddings\"]\n",
    "    new_rel_embeddings = new_embeddings[\"rel_embeddings\"]"
   ]
  },
  {
   "cell_type": "code",
   "execution_count": 14,
   "metadata": {},
   "outputs": [
    {
     "data": {
      "text/plain": [
       "True"
      ]
     },
     "execution_count": 14,
     "metadata": {},
     "output_type": "execute_result"
    }
   ],
   "source": [
    "old_ent_embeddings[0] == new_ent_embeddings[0]"
   ]
  },
  {
   "cell_type": "code",
   "execution_count": 15,
   "metadata": {},
   "outputs": [
    {
     "data": {
      "text/plain": [
       "False"
      ]
     },
     "execution_count": 15,
     "metadata": {},
     "output_type": "execute_result"
    }
   ],
   "source": [
    "old_rel_embeddings[0] == new_rel_embeddings[0]"
   ]
  },
  {
   "cell_type": "code",
   "execution_count": null,
   "metadata": {},
   "outputs": [],
   "source": []
  }
 ],
 "metadata": {
  "kernelspec": {
   "display_name": "Python [conda env:PBG] *",
   "language": "python",
   "name": "conda-env-PBG-py"
  },
  "language_info": {
   "codemirror_mode": {
    "name": "ipython",
    "version": 3
   },
   "file_extension": ".py",
   "mimetype": "text/x-python",
   "name": "python",
   "nbconvert_exporter": "python",
   "pygments_lexer": "ipython3",
   "version": "3.6.7"
  }
 },
 "nbformat": 4,
 "nbformat_minor": 2
}
