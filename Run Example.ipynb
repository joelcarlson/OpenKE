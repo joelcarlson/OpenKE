{
 "cells": [
  {
   "cell_type": "code",
   "execution_count": 1,
   "metadata": {},
   "outputs": [],
   "source": [
    "import config\n",
    "import models\n",
    "import tensorflow as tf\n",
    "import numpy as np\n",
    "import os\n"
   ]
  },
  {
   "cell_type": "code",
   "execution_count": 2,
   "metadata": {},
   "outputs": [
    {
     "name": "stdout",
     "output_type": "stream",
     "text": [
      "\n",
      "WARNING: The TensorFlow contrib module will not be included in TensorFlow 2.0.\n",
      "For more information, please see:\n",
      "  * https://github.com/tensorflow/community/blob/master/rfcs/20180907-contrib-sunset.md\n",
      "  * https://github.com/tensorflow/addons\n",
      "If you depend on functionality not listed there, please file an issue.\n",
      "\n",
      "<function variance_scaling_initializer.<locals>._initializer at 0x1282bb950>\n"
     ]
    }
   ],
   "source": [
    "\"\"\"\n",
    "Method:\n",
    "\n",
    "Run the normal transe example (example_train_transe.py)\n",
    "Write the embeddings as a file that can be read\n",
    "use embeddings to initialize embedding layer in TransE_freeze.py\n",
    "\n",
    "Append random embeddings for new entities and relations\n",
    "set config freeze_train_embeddings = true\n",
    "figure out how to update only the embeddings for a certain set of indices\n",
    "figure out how to make sure that we only see examples using new items to speed convergence\n",
    "compare new+old embeddings\n",
    "\"\"\"\n",
    "os.environ['CUDA_VISIBLE_DEVICES']='7'\n",
    "#Input training files from benchmarks/FB15K/ folder.\n",
    "con = config.Config()\n",
    "#True: Input test files from the same folder.\n",
    "con.set_in_path(\"./benchmarks/FB15K/\")\n",
    "con.set_test_link_prediction(True)\n",
    "con.set_test_triple_classification(True)\n",
    "con.set_work_threads(8)\n",
    "con.set_train_times(10)\n",
    "con.set_nbatches(20)\n",
    "con.set_alpha(0.001)\n",
    "con.set_margin(1.0)\n",
    "con.set_bern(0)\n",
    "con.set_dimension(100)\n",
    "con.set_ent_neg_rate(1)\n",
    "con.set_rel_neg_rate(0)\n",
    "con.set_opt_method(\"SGD\")\n",
    "con.set_freeze_train_embeddings(True)\n",
    "con.set_ent_embedding_initializer(\"new path\")\n",
    "con.set_rel_embedding_initializer(\"new _ path\")"
   ]
  },
  {
   "cell_type": "code",
   "execution_count": 3,
   "metadata": {},
   "outputs": [],
   "source": [
    "#Models will be exported via tf.Saver() automatically.\n",
    "con.set_export_files(\"./res/model.vec.tf\", 0)\n",
    "#Model parameters will be exported to json files automatically.\n",
    "con.set_out_files(\"./res/embedding.vec.json\")\n",
    "#Initialize experimental settings.\n",
    "con.init()"
   ]
  },
  {
   "cell_type": "code",
   "execution_count": 4,
   "metadata": {},
   "outputs": [
    {
     "name": "stdout",
     "output_type": "stream",
     "text": [
      "WARNING:tensorflow:From /anaconda3/envs/PBG/lib/python3.6/site-packages/tensorflow/python/framework/op_def_library.py:263: colocate_with (from tensorflow.python.framework.ops) is deprecated and will be removed in a future version.\n",
      "Instructions for updating:\n",
      "Colocations handled automatically by placer.\n",
      "WARNING:tensorflow:From /Users/joelcarl/WorkDocs/Scratch/PBG/OpenKE/models/TransE_freeze.py:63: calling reduce_sum_v1 (from tensorflow.python.ops.math_ops) with keep_dims is deprecated and will be removed in a future version.\n",
      "Instructions for updating:\n",
      "keep_dims is deprecated, use keepdims instead\n",
      "WARNING:tensorflow:From /anaconda3/envs/PBG/lib/python3.6/site-packages/tensorflow/python/ops/math_ops.py:3066: to_int32 (from tensorflow.python.ops.math_ops) is deprecated and will be removed in a future version.\n",
      "Instructions for updating:\n",
      "Use tf.cast instead.\n",
      "WARNING:tensorflow:From /anaconda3/envs/PBG/lib/python3.6/site-packages/tensorflow/python/util/tf_should_use.py:193: initialize_all_variables (from tensorflow.python.ops.variables) is deprecated and will be removed after 2017-03-02.\n",
      "Instructions for updating:\n",
      "Use `tf.global_variables_initializer` instead.\n"
     ]
    }
   ],
   "source": [
    "\n",
    "#Set the knowledge embedding model\n",
    "con.set_model(models.TransE_freeze)\n"
   ]
  },
  {
   "cell_type": "code",
   "execution_count": 5,
   "metadata": {},
   "outputs": [
    {
     "name": "stdout",
     "output_type": "stream",
     "text": [
      "[12350 12740  4290  7403 13264]\n",
      "[10844  7067  2542 13529  9396]\n",
      "[  71  329  416  412 1023]\n",
      "triple (151,152,9) is wrong\n",
      "triple (151,152,8) is wrong\n"
     ]
    }
   ],
   "source": [
    "# This method predicts the top k head entities given tail entity and relation.\n",
    "# t (int): tail entity id\n",
    "# r (int): relation id\n",
    "# k (int): top k head entities\n",
    "con.predict_head_entity(152, 9, 5)\n",
    "con.predict_tail_entity(151, 9, 5)\n",
    "con.predict_relation(151, 152, 5)\n",
    "\n",
    "# head, tail, relation\n",
    "con.predict_triple(151, 152, 9)\n",
    "con.predict_triple(151, 152, 8)"
   ]
  },
  {
   "cell_type": "code",
   "execution_count": null,
   "metadata": {},
   "outputs": [],
   "source": []
  }
 ],
 "metadata": {
  "kernelspec": {
   "display_name": "Python [conda env:PBG] *",
   "language": "python",
   "name": "conda-env-PBG-py"
  },
  "language_info": {
   "codemirror_mode": {
    "name": "ipython",
    "version": 3
   },
   "file_extension": ".py",
   "mimetype": "text/x-python",
   "name": "python",
   "nbconvert_exporter": "python",
   "pygments_lexer": "ipython3",
   "version": "3.6.7"
  }
 },
 "nbformat": 4,
 "nbformat_minor": 2
}
